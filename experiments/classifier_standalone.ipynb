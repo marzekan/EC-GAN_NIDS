{
 "cells": [
  {
   "cell_type": "code",
   "execution_count": 1,
   "metadata": {},
   "outputs": [
    {
     "name": "stderr",
     "output_type": "stream",
     "text": [
      "2021-12-24 12:00:37.777213: W tensorflow/stream_executor/platform/default/dso_loader.cc:64] Could not load dynamic library 'libcudart.so.11.0'; dlerror: libcudart.so.11.0: cannot open shared object file: No such file or directory\n",
      "2021-12-24 12:00:37.777249: I tensorflow/stream_executor/cuda/cudart_stub.cc:29] Ignore above cudart dlerror if you do not have a GPU set up on your machine.\n"
     ]
    }
   ],
   "source": [
    "import pandas as pd\n",
    "import numpy as np\n",
    "\n",
    "import tensorflow as tf\n",
    "\n",
    "import os\n",
    "import sys\n",
    "\n",
    "script_dir = os.path.dirname(os.path.abspath(\"experiments\"))\n",
    "sys.path.append(os.path.dirname(script_dir))\n",
    "\n",
    "from experiments.predictions import make_prediction, PredMetrics, get_prediction_metrics, labels"
   ]
  },
  {
   "cell_type": "code",
   "execution_count": 2,
   "metadata": {},
   "outputs": [
    {
     "name": "stdout",
     "output_type": "stream",
     "text": [
      "Physical GPUs: 1\n",
      "Logical GPUs: 1\n"
     ]
    }
   ],
   "source": [
    "try:\n",
    "    gpus = tf.config.list_physical_devices('GPU')\n",
    "    tf.config.experimental.set_visible_devices(gpus[0], 'GPU')\n",
    "    logical_gpus = tf.config.experimental.list_logical_devices('GPU')\n",
    "    print(\"Physical GPUs:\", len(gpus))\n",
    "    print(\"Logical GPUs:\", len(logical_gpus))\n",
    "\n",
    "except RuntimeError as e:\n",
    "    # Visible devices must be set before GPUs have been initialized\n",
    "    print(e)"
   ]
  },
  {
   "cell_type": "code",
   "execution_count": 3,
   "metadata": {},
   "outputs": [],
   "source": [
    "earlystop_callback = tf.keras.callbacks.EarlyStopping(\n",
    "    monitor=\"accuracy\", \n",
    "    mode='max', \n",
    "    patience=5, \n",
    "    min_delta=0.0001\n",
    ")"
   ]
  },
  {
   "cell_type": "markdown",
   "metadata": {},
   "source": [
    "### Classifier (10% data)"
   ]
  },
  {
   "cell_type": "code",
   "execution_count": 4,
   "metadata": {},
   "outputs": [],
   "source": [
    "x_train = np.load(\"data/preserve10/x_train.npy\")\n",
    "y_train = np.load(\"data/preserve10/y_train.npy\")\n",
    "x_test = np.load(\"data/preserve10/x_test.npy\")\n",
    "y_test = np.load(\"data/preserve10/y_test.npy\")"
   ]
  },
  {
   "cell_type": "code",
   "execution_count": 5,
   "metadata": {},
   "outputs": [],
   "source": [
    "y_train = tf.keras.utils.to_categorical(y_train)\n",
    "y_test_onehot = tf.keras.utils.to_categorical(y_test)"
   ]
  },
  {
   "cell_type": "code",
   "execution_count": 6,
   "metadata": {},
   "outputs": [],
   "source": [
    "model = tf.keras.models.Sequential([\n",
    "        tf.keras.layers.InputLayer(input_shape=(31,)),\n",
    "        tf.keras.layers.Dense(128, activation=\"relu\"),\n",
    "        tf.keras.layers.Dropout(0.3),\n",
    "        tf.keras.layers.Dense(256, activation=\"relu\"),\n",
    "        tf.keras.layers.Dropout(0.3),\n",
    "        tf.keras.layers.Dense(128, activation=\"relu\"),\n",
    "        tf.keras.layers.Dropout(0.3),\n",
    "        tf.keras.layers.Dense(15, activation=\"softmax\")\n",
    "])"
   ]
  },
  {
   "cell_type": "code",
   "execution_count": 7,
   "metadata": {},
   "outputs": [],
   "source": [
    "model.compile(optimizer=\"adamax\",\n",
    "              loss=\"categorical_crossentropy\",\n",
    "              metrics=[\"accuracy\"])"
   ]
  },
  {
   "cell_type": "code",
   "execution_count": 8,
   "metadata": {
    "scrolled": true
   },
   "outputs": [
    {
     "name": "stdout",
     "output_type": "stream",
     "text": [
      "Epoch 1/100\n",
      "1680/1680 [==============================] - 9s 4ms/step - loss: 0.3145 - accuracy: 0.9121\n",
      "Epoch 2/100\n",
      "1680/1680 [==============================] - 7s 4ms/step - loss: 0.1716 - accuracy: 0.9413\n",
      "Epoch 3/100\n",
      "1680/1680 [==============================] - 7s 4ms/step - loss: 0.1424 - accuracy: 0.9485\n",
      "Epoch 4/100\n",
      "1680/1680 [==============================] - 7s 4ms/step - loss: 0.1264 - accuracy: 0.9528\n",
      "Epoch 5/100\n",
      "1680/1680 [==============================] - 7s 4ms/step - loss: 0.1167 - accuracy: 0.9557\n",
      "Epoch 6/100\n",
      "1680/1680 [==============================] - 7s 4ms/step - loss: 0.1089 - accuracy: 0.9577\n",
      "Epoch 7/100\n",
      "1680/1680 [==============================] - 7s 4ms/step - loss: 0.1033 - accuracy: 0.9591\n",
      "Epoch 8/100\n",
      "1680/1680 [==============================] - 7s 4ms/step - loss: 0.0990 - accuracy: 0.9608\n",
      "Epoch 9/100\n",
      "1680/1680 [==============================] - 7s 4ms/step - loss: 0.0963 - accuracy: 0.9619\n",
      "Epoch 10/100\n",
      "1680/1680 [==============================] - 7s 4ms/step - loss: 0.0929 - accuracy: 0.9624\n",
      "Epoch 11/100\n",
      "1680/1680 [==============================] - 7s 4ms/step - loss: 0.0906 - accuracy: 0.9636\n",
      "Epoch 12/100\n",
      "1680/1680 [==============================] - 7s 4ms/step - loss: 0.0894 - accuracy: 0.9635\n",
      "Epoch 13/100\n",
      "1680/1680 [==============================] - 7s 4ms/step - loss: 0.0869 - accuracy: 0.9646\n",
      "Epoch 14/100\n",
      "1680/1680 [==============================] - 7s 4ms/step - loss: 0.0852 - accuracy: 0.9646\n",
      "Epoch 15/100\n",
      "1680/1680 [==============================] - 7s 4ms/step - loss: 0.0840 - accuracy: 0.9652\n",
      "Epoch 16/100\n",
      "1680/1680 [==============================] - 7s 4ms/step - loss: 0.0836 - accuracy: 0.9654\n",
      "Epoch 17/100\n",
      "1680/1680 [==============================] - 8s 4ms/step - loss: 0.0820 - accuracy: 0.9664\n",
      "Epoch 18/100\n",
      "1680/1680 [==============================] - 7s 4ms/step - loss: 0.0815 - accuracy: 0.9664\n",
      "Epoch 19/100\n",
      "1680/1680 [==============================] - 7s 4ms/step - loss: 0.0801 - accuracy: 0.9666\n",
      "Epoch 20/100\n",
      "1680/1680 [==============================] - 7s 4ms/step - loss: 0.0791 - accuracy: 0.9670\n",
      "Epoch 21/100\n",
      "1680/1680 [==============================] - 7s 4ms/step - loss: 0.0784 - accuracy: 0.9669\n",
      "Epoch 22/100\n",
      "1680/1680 [==============================] - 7s 4ms/step - loss: 0.0773 - accuracy: 0.9677\n",
      "Epoch 23/100\n",
      "1680/1680 [==============================] - 7s 4ms/step - loss: 0.0767 - accuracy: 0.9680\n",
      "Epoch 24/100\n",
      "1680/1680 [==============================] - 7s 4ms/step - loss: 0.0760 - accuracy: 0.9679\n",
      "Epoch 25/100\n",
      "1680/1680 [==============================] - 7s 4ms/step - loss: 0.0755 - accuracy: 0.9685\n",
      "Epoch 26/100\n",
      "1680/1680 [==============================] - 7s 4ms/step - loss: 0.0748 - accuracy: 0.9686\n",
      "Epoch 27/100\n",
      "1680/1680 [==============================] - 7s 4ms/step - loss: 0.0741 - accuracy: 0.9689\n",
      "Epoch 28/100\n",
      "1680/1680 [==============================] - 7s 4ms/step - loss: 0.0743 - accuracy: 0.9686\n",
      "Epoch 29/100\n",
      "1680/1680 [==============================] - 7s 4ms/step - loss: 0.0731 - accuracy: 0.9697\n",
      "Epoch 30/100\n",
      "1680/1680 [==============================] - 7s 4ms/step - loss: 0.0729 - accuracy: 0.9697\n",
      "Epoch 31/100\n",
      "1680/1680 [==============================] - 7s 4ms/step - loss: 0.0726 - accuracy: 0.9695\n",
      "Epoch 32/100\n",
      "1680/1680 [==============================] - 8s 5ms/step - loss: 0.0720 - accuracy: 0.9694\n",
      "Epoch 33/100\n",
      "1680/1680 [==============================] - 7s 4ms/step - loss: 0.0722 - accuracy: 0.9699\n",
      "Epoch 34/100\n",
      "1680/1680 [==============================] - 7s 4ms/step - loss: 0.0715 - accuracy: 0.9699\n",
      "Epoch 35/100\n",
      "1680/1680 [==============================] - 7s 4ms/step - loss: 0.0709 - accuracy: 0.9702\n",
      "Epoch 36/100\n",
      "1680/1680 [==============================] - 7s 4ms/step - loss: 0.0713 - accuracy: 0.9700\n",
      "Epoch 37/100\n",
      "1680/1680 [==============================] - 7s 4ms/step - loss: 0.0709 - accuracy: 0.9700\n",
      "Epoch 38/100\n",
      "1680/1680 [==============================] - 7s 4ms/step - loss: 0.0704 - accuracy: 0.9702\n",
      "Epoch 39/100\n",
      "1680/1680 [==============================] - 7s 4ms/step - loss: 0.0695 - accuracy: 0.9708\n",
      "Epoch 40/100\n",
      "1680/1680 [==============================] - 7s 4ms/step - loss: 0.0693 - accuracy: 0.9707\n",
      "Epoch 41/100\n",
      "1680/1680 [==============================] - 8s 5ms/step - loss: 0.0692 - accuracy: 0.9709\n",
      "Epoch 42/100\n",
      "1680/1680 [==============================] - 6s 4ms/step - loss: 0.0687 - accuracy: 0.9712\n",
      "Epoch 43/100\n",
      "1680/1680 [==============================] - 6s 4ms/step - loss: 0.0689 - accuracy: 0.9709\n",
      "Epoch 44/100\n",
      "1680/1680 [==============================] - 8s 5ms/step - loss: 0.0688 - accuracy: 0.9709\n",
      "Epoch 45/100\n",
      "1680/1680 [==============================] - 7s 4ms/step - loss: 0.0687 - accuracy: 0.9712\n",
      "Epoch 46/100\n",
      "1680/1680 [==============================] - 7s 4ms/step - loss: 0.0683 - accuracy: 0.9712\n",
      "Epoch 47/100\n",
      "1680/1680 [==============================] - 6s 4ms/step - loss: 0.0673 - accuracy: 0.9715\n",
      "Epoch 48/100\n",
      "1680/1680 [==============================] - 6s 4ms/step - loss: 0.0675 - accuracy: 0.9715\n",
      "Epoch 49/100\n",
      "1680/1680 [==============================] - 8s 4ms/step - loss: 0.0675 - accuracy: 0.9714\n",
      "Epoch 50/100\n",
      "1680/1680 [==============================] - 7s 4ms/step - loss: 0.0675 - accuracy: 0.9716\n",
      "Epoch 51/100\n",
      "1680/1680 [==============================] - 6s 4ms/step - loss: 0.0659 - accuracy: 0.9725\n",
      "Epoch 52/100\n",
      "1680/1680 [==============================] - 6s 4ms/step - loss: 0.0662 - accuracy: 0.9721\n",
      "Epoch 53/100\n",
      "1680/1680 [==============================] - 7s 4ms/step - loss: 0.0661 - accuracy: 0.9723\n",
      "Epoch 54/100\n",
      "1680/1680 [==============================] - 7s 4ms/step - loss: 0.0661 - accuracy: 0.9725\n",
      "Epoch 55/100\n",
      "1680/1680 [==============================] - 7s 4ms/step - loss: 0.0662 - accuracy: 0.9723\n",
      "Epoch 56/100\n",
      "1680/1680 [==============================] - 6s 4ms/step - loss: 0.0661 - accuracy: 0.9722\n"
     ]
    },
    {
     "data": {
      "text/plain": [
       "<tensorflow.python.keras.callbacks.History at 0x2008dc0cc10>"
      ]
     },
     "execution_count": 8,
     "metadata": {},
     "output_type": "execute_result"
    }
   ],
   "source": [
    "model.fit(x_train,\n",
    "          y_train,\n",
    "          epochs=100,\n",
    "          callbacks=[earlystop_callback],\n",
    "          batch_size=128\n",
    "         )"
   ]
  },
  {
   "cell_type": "markdown",
   "metadata": {},
   "source": [
    "**Evaluate**"
   ]
  },
  {
   "cell_type": "code",
   "execution_count": 9,
   "metadata": {},
   "outputs": [
    {
     "name": "stdout",
     "output_type": "stream",
     "text": [
      "2239/2239 - 5s - loss: 0.0612 - accuracy: 0.9771\n"
     ]
    },
    {
     "data": {
      "text/plain": [
       "[0.06117844209074974, 0.9771350622177124]"
      ]
     },
     "execution_count": 9,
     "metadata": {},
     "output_type": "execute_result"
    }
   ],
   "source": [
    "model.evaluate(x_test, \n",
    "               y_test_onehot, \n",
    "               verbose=2)"
   ]
  },
  {
   "cell_type": "code",
   "execution_count": 10,
   "metadata": {},
   "outputs": [],
   "source": [
    "x_test = pd.DataFrame(x_test)\n",
    "y_test = pd.DataFrame(y_test)"
   ]
  },
  {
   "cell_type": "code",
   "execution_count": 11,
   "metadata": {},
   "outputs": [],
   "source": [
    "predictions = make_prediction(model, x_test, y_test)\n",
    "pred_metrics = get_prediction_metrics(predictions)"
   ]
  },
  {
   "cell_type": "code",
   "execution_count": 12,
   "metadata": {
    "scrolled": false
   },
   "outputs": [
    {
     "name": "stdout",
     "output_type": "stream",
     "text": [
      "FP Rate (FPR): 0.0004\n",
      "FN Rate (FNR): 0.0745\n",
      "Detection Rate: 0.9255\n",
      "False Alarm Rate (FAR): 0.0374\n",
      "Accuracy:  0.9771\n",
      "\n",
      "                           Precision    Recall  F1-score  Quantity\n",
      "BENIGN                     0.989657  0.984903  0.987274     56833\n",
      "Bot                        0.934097  0.645545  0.763466       505\n",
      "DDoS                       0.999349  0.983664  0.991445      3122\n",
      "DoS_GoldenEye              0.963235  0.952727  0.957952       275\n",
      "DoS_Hulk                   0.970447  0.980726  0.975559      5759\n",
      "DoS_Slowhttptest           0.855072  0.880597  0.867647       134\n",
      "DoS_slowloris              0.951515  0.945783  0.948640       166\n",
      "FTPPatator                 0.949772  0.995215  0.971963       209\n",
      "Heartbleed                 1.000000  1.000000  1.000000         2\n",
      "Infiltration               0.000000  0.000000  0.000000         7\n",
      "PortScan                   0.897822  0.954707  0.925392      3930\n",
      "SSHPatator                 0.801370  0.914062  0.854015       128\n",
      "Web_Attack_Brute_Force     0.509091  0.923858  0.656447       394\n",
      "Web_Attack_Sql_Injection   0.000000  0.000000  0.000000        11\n",
      "Web_Attack_XSS             0.000000  0.000000  0.000000       163\n",
      "macro avg                  0.721429  0.744119  0.726653     71638\n",
      "weighted avg               0.977068  0.977135  0.976520     71638\n"
     ]
    }
   ],
   "source": [
    "print(\"FP Rate (FPR):\", round(pred_metrics.weighted_fpr, 4))\n",
    "print(\"FN Rate (FNR):\", round(pred_metrics.weighted_fnr, 4))\n",
    "print(\"Detection Rate:\", round(pred_metrics.weighted_detection_rate, 4))\n",
    "print(\"False Alarm Rate (FAR):\", round(pred_metrics.false_alarm_rate, 4))\n",
    "print(\"Accuracy: \", round(pred_metrics.classification_report.loc[\"accuracy\"].iloc[0], 4))\n",
    "\n",
    "pred_metrics.classification_report.columns = [\"Precision\", \"Recall\", \"F1-score\", \"Quantity\"]\n",
    "pred_metrics.classification_report = pred_metrics.classification_report.astype({\"Quantity\": int})\n",
    "pred_metrics.classification_report.drop(\"accuracy\", axis=0, inplace=True)\n",
    "\n",
    "print(\"\\n\", pred_metrics.classification_report)"
   ]
  },
  {
   "cell_type": "code",
   "execution_count": 13,
   "metadata": {},
   "outputs": [],
   "source": [
    "model.save(\"models_save/10_classifier_standalone.h5\")"
   ]
  },
  {
   "cell_type": "markdown",
   "metadata": {},
   "source": [
    "### Classifier (25% data)"
   ]
  },
  {
   "cell_type": "code",
   "execution_count": 14,
   "metadata": {},
   "outputs": [],
   "source": [
    "x_train = np.load(\"data/preserve25/x_train.npy\")\n",
    "y_train = np.load(\"data/preserve25/y_train.npy\")\n",
    "x_test = np.load(\"data/preserve25/x_test.npy\")\n",
    "y_test = np.load(\"data/preserve25/y_test.npy\")"
   ]
  },
  {
   "cell_type": "code",
   "execution_count": 15,
   "metadata": {},
   "outputs": [],
   "source": [
    "y_train = tf.keras.utils.to_categorical(y_train)\n",
    "y_test_onehot = tf.keras.utils.to_categorical(y_test)"
   ]
  },
  {
   "cell_type": "code",
   "execution_count": 16,
   "metadata": {},
   "outputs": [],
   "source": [
    "model = tf.keras.models.Sequential([\n",
    "        tf.keras.layers.InputLayer(input_shape=(31,)),\n",
    "        tf.keras.layers.Dense(128, activation=\"relu\"),\n",
    "        tf.keras.layers.Dropout(0.3),\n",
    "        tf.keras.layers.Dense(256, activation=\"relu\"),\n",
    "        tf.keras.layers.Dropout(0.3),\n",
    "        tf.keras.layers.Dense(128, activation=\"relu\"),\n",
    "        tf.keras.layers.Dropout(0.3),\n",
    "        tf.keras.layers.Dense(15, activation=\"softmax\")\n",
    "])"
   ]
  },
  {
   "cell_type": "code",
   "execution_count": 17,
   "metadata": {},
   "outputs": [],
   "source": [
    "model.compile(optimizer=\"adamax\",\n",
    "              loss=\"categorical_crossentropy\",\n",
    "              metrics=[\"accuracy\"])"
   ]
  },
  {
   "cell_type": "code",
   "execution_count": 18,
   "metadata": {
    "scrolled": true
   },
   "outputs": [
    {
     "name": "stdout",
     "output_type": "stream",
     "text": [
      "Epoch 1/100\n",
      "4161/4161 [==============================] - 18s 4ms/step - loss: 0.2021 - accuracy: 0.9382\n",
      "Epoch 2/100\n",
      "4161/4161 [==============================] - 17s 4ms/step - loss: 0.1120 - accuracy: 0.9585\n",
      "Epoch 3/100\n",
      "4161/4161 [==============================] - 17s 4ms/step - loss: 0.0945 - accuracy: 0.9631\n",
      "Epoch 4/100\n",
      "4161/4161 [==============================] - 18s 4ms/step - loss: 0.0856 - accuracy: 0.9659\n",
      "Epoch 5/100\n",
      "4161/4161 [==============================] - 18s 4ms/step - loss: 0.0797 - accuracy: 0.9679\n",
      "Epoch 6/100\n",
      "4161/4161 [==============================] - 18s 4ms/step - loss: 0.0762 - accuracy: 0.9690\n",
      "Epoch 7/100\n",
      "4161/4161 [==============================] - 18s 4ms/step - loss: 0.0731 - accuracy: 0.9700\n",
      "Epoch 8/100\n",
      "4161/4161 [==============================] - 18s 4ms/step - loss: 0.0713 - accuracy: 0.9709\n",
      "Epoch 9/100\n",
      "4161/4161 [==============================] - 18s 4ms/step - loss: 0.0694 - accuracy: 0.9718\n",
      "Epoch 10/100\n",
      "4161/4161 [==============================] - 18s 4ms/step - loss: 0.0678 - accuracy: 0.9725\n",
      "Epoch 11/100\n",
      "4161/4161 [==============================] - 18s 4ms/step - loss: 0.0664 - accuracy: 0.9732\n",
      "Epoch 12/100\n",
      "4161/4161 [==============================] - 18s 4ms/step - loss: 0.0651 - accuracy: 0.9735\n",
      "Epoch 13/100\n",
      "4161/4161 [==============================] - 18s 4ms/step - loss: 0.0638 - accuracy: 0.9742\n",
      "Epoch 14/100\n",
      "4161/4161 [==============================] - 18s 4ms/step - loss: 0.0629 - accuracy: 0.9744\n",
      "Epoch 15/100\n",
      "4161/4161 [==============================] - 18s 4ms/step - loss: 0.0626 - accuracy: 0.9746\n",
      "Epoch 16/100\n",
      "4161/4161 [==============================] - 18s 4ms/step - loss: 0.0618 - accuracy: 0.9749\n",
      "Epoch 17/100\n",
      "4161/4161 [==============================] - 18s 4ms/step - loss: 0.0610 - accuracy: 0.9752\n",
      "Epoch 18/100\n",
      "4161/4161 [==============================] - 18s 4ms/step - loss: 0.0605 - accuracy: 0.9756\n",
      "Epoch 19/100\n",
      "4161/4161 [==============================] - 18s 4ms/step - loss: 0.0600 - accuracy: 0.9758\n",
      "Epoch 20/100\n",
      "4161/4161 [==============================] - 19s 5ms/step - loss: 0.0593 - accuracy: 0.9760\n",
      "Epoch 21/100\n",
      "4161/4161 [==============================] - 19s 4ms/step - loss: 0.0584 - accuracy: 0.9762\n",
      "Epoch 22/100\n",
      "4161/4161 [==============================] - 19s 5ms/step - loss: 0.0581 - accuracy: 0.9767\n",
      "Epoch 23/100\n",
      "4161/4161 [==============================] - 18s 4ms/step - loss: 0.0578 - accuracy: 0.9764\n",
      "Epoch 24/100\n",
      "4161/4161 [==============================] - 15s 4ms/step - loss: 0.0575 - accuracy: 0.9767\n",
      "Epoch 25/100\n",
      "4161/4161 [==============================] - 15s 4ms/step - loss: 0.0571 - accuracy: 0.9767\n",
      "Epoch 26/100\n",
      "4161/4161 [==============================] - 16s 4ms/step - loss: 0.0564 - accuracy: 0.9771\n",
      "Epoch 27/100\n",
      "4161/4161 [==============================] - 16s 4ms/step - loss: 0.0562 - accuracy: 0.9774\n",
      "Epoch 28/100\n",
      "4161/4161 [==============================] - 15s 4ms/step - loss: 0.0558 - accuracy: 0.9776\n",
      "Epoch 29/100\n",
      "4161/4161 [==============================] - 17s 4ms/step - loss: 0.0560 - accuracy: 0.9773\n",
      "Epoch 30/100\n",
      "4161/4161 [==============================] - 17s 4ms/step - loss: 0.0550 - accuracy: 0.9775\n",
      "Epoch 31/100\n",
      "4161/4161 [==============================] - 17s 4ms/step - loss: 0.0547 - accuracy: 0.9777\n",
      "Epoch 32/100\n",
      "4161/4161 [==============================] - 20s 5ms/step - loss: 0.0551 - accuracy: 0.9778\n",
      "Epoch 33/100\n",
      "4161/4161 [==============================] - 19s 4ms/step - loss: 0.0545 - accuracy: 0.9780\n",
      "Epoch 34/100\n",
      "4161/4161 [==============================] - 19s 5ms/step - loss: 0.0543 - accuracy: 0.9781\n",
      "Epoch 35/100\n",
      "4161/4161 [==============================] - 18s 4ms/step - loss: 0.0542 - accuracy: 0.9779\n",
      "Epoch 36/100\n",
      "4161/4161 [==============================] - 19s 4ms/step - loss: 0.0537 - accuracy: 0.9781\n",
      "Epoch 37/100\n",
      "4161/4161 [==============================] - 18s 4ms/step - loss: 0.0536 - accuracy: 0.9783\n",
      "Epoch 38/100\n",
      "4161/4161 [==============================] - 17s 4ms/step - loss: 0.0532 - accuracy: 0.9783\n",
      "Epoch 39/100\n",
      "4161/4161 [==============================] - 17s 4ms/step - loss: 0.0533 - accuracy: 0.9784\n",
      "Epoch 40/100\n",
      "4161/4161 [==============================] - 17s 4ms/step - loss: 0.0531 - accuracy: 0.9782\n",
      "Epoch 41/100\n",
      "4161/4161 [==============================] - 16s 4ms/step - loss: 0.0525 - accuracy: 0.9785\n",
      "Epoch 42/100\n",
      "4161/4161 [==============================] - 17s 4ms/step - loss: 0.0525 - accuracy: 0.9783\n",
      "Epoch 43/100\n",
      "4161/4161 [==============================] - 17s 4ms/step - loss: 0.0521 - accuracy: 0.9787\n",
      "Epoch 44/100\n",
      "4161/4161 [==============================] - 17s 4ms/step - loss: 0.0524 - accuracy: 0.9786\n",
      "Epoch 45/100\n",
      "4161/4161 [==============================] - 18s 4ms/step - loss: 0.0519 - accuracy: 0.9789\n",
      "Epoch 46/100\n",
      "4161/4161 [==============================] - 17s 4ms/step - loss: 0.0516 - accuracy: 0.9790\n",
      "Epoch 47/100\n",
      "4161/4161 [==============================] - 16s 4ms/step - loss: 0.0517 - accuracy: 0.9790\n",
      "Epoch 48/100\n",
      "4161/4161 [==============================] - 16s 4ms/step - loss: 0.0511 - accuracy: 0.9792\n",
      "Epoch 49/100\n",
      "4161/4161 [==============================] - 16s 4ms/step - loss: 0.0513 - accuracy: 0.9791\n",
      "Epoch 50/100\n",
      "4161/4161 [==============================] - 17s 4ms/step - loss: 0.0512 - accuracy: 0.9792\n",
      "Epoch 51/100\n",
      "4161/4161 [==============================] - 15s 4ms/step - loss: 0.0513 - accuracy: 0.9790\n",
      "Epoch 52/100\n",
      "4161/4161 [==============================] - 15s 4ms/step - loss: 0.0507 - accuracy: 0.9794\n",
      "Epoch 53/100\n",
      "4161/4161 [==============================] - 16s 4ms/step - loss: 0.0511 - accuracy: 0.9791\n",
      "Epoch 54/100\n",
      "4161/4161 [==============================] - 17s 4ms/step - loss: 0.0510 - accuracy: 0.9791\n",
      "Epoch 55/100\n",
      "4161/4161 [==============================] - 16s 4ms/step - loss: 0.0511 - accuracy: 0.9789\n",
      "Epoch 56/100\n",
      "4161/4161 [==============================] - 16s 4ms/step - loss: 0.0502 - accuracy: 0.9794\n",
      "Epoch 57/100\n",
      "4161/4161 [==============================] - 16s 4ms/step - loss: 0.0502 - accuracy: 0.9793\n"
     ]
    },
    {
     "data": {
      "text/plain": [
       "<tensorflow.python.keras.callbacks.History at 0x20240e59130>"
      ]
     },
     "execution_count": 18,
     "metadata": {},
     "output_type": "execute_result"
    }
   ],
   "source": [
    "model.fit(x_train,\n",
    "          y_train,\n",
    "          epochs=100,\n",
    "          callbacks=[earlystop_callback],\n",
    "          batch_size=128\n",
    "         )"
   ]
  },
  {
   "cell_type": "markdown",
   "metadata": {},
   "source": [
    "**Evaluate**"
   ]
  },
  {
   "cell_type": "code",
   "execution_count": 19,
   "metadata": {},
   "outputs": [
    {
     "name": "stdout",
     "output_type": "stream",
     "text": [
      "5548/5548 - 10s - loss: 0.0459 - accuracy: 0.9806\n"
     ]
    },
    {
     "data": {
      "text/plain": [
       "[0.04589821398258209, 0.9805775880813599]"
      ]
     },
     "execution_count": 19,
     "metadata": {},
     "output_type": "execute_result"
    }
   ],
   "source": [
    "model.evaluate(x_test, \n",
    "               y_test_onehot, \n",
    "               verbose=2)"
   ]
  },
  {
   "cell_type": "code",
   "execution_count": 20,
   "metadata": {},
   "outputs": [],
   "source": [
    "x_test = pd.DataFrame(x_test)\n",
    "y_test = pd.DataFrame(y_test)"
   ]
  },
  {
   "cell_type": "code",
   "execution_count": 21,
   "metadata": {},
   "outputs": [],
   "source": [
    "predictions = make_prediction(model, x_test, y_test)\n",
    "pred_metrics = get_prediction_metrics(predictions)"
   ]
  },
  {
   "cell_type": "code",
   "execution_count": 22,
   "metadata": {
    "scrolled": false
   },
   "outputs": [
    {
     "name": "stdout",
     "output_type": "stream",
     "text": [
      "FP Rate (FPR): 0.0001\n",
      "FN Rate (FNR): 0.0586\n",
      "Detection Rate: 0.9414\n",
      "False Alarm Rate (FAR): 0.0293\n",
      "Accuracy:  0.9806\n",
      "\n",
      "                           Precision    Recall  F1-score  Quantity\n",
      "BENIGN                     0.994914  0.982176  0.988504    141997\n",
      "Bot                        0.820375  0.620690  0.706697       493\n",
      "DDoS                       0.998346  0.998982  0.998664      7855\n",
      "DoS_GoldenEye              0.972561  0.965204  0.968869       661\n",
      "DoS_Hulk                   0.939948  0.998273  0.968233     14472\n",
      "DoS_Slowhttptest           0.859788  0.978916  0.915493       332\n",
      "DoS_slowloris              0.950249  0.959799  0.955000       398\n",
      "FTPPatator                 0.976048  0.989879  0.982915       494\n",
      "Heartbleed                 1.000000  1.000000  1.000000         2\n",
      "Infiltration               0.000000  0.000000  0.000000        12\n",
      "PortScan                   0.901574  0.956924  0.928425      9936\n",
      "SSHPatator                 0.869333  0.967359  0.915730       337\n",
      "Web_Attack_Brute_Force     0.387571  0.902632  0.542292       380\n",
      "Web_Attack_Sql_Injection   0.000000  0.000000  0.000000         7\n",
      "Web_Attack_XSS             0.000000  0.000000  0.000000       151\n",
      "macro avg                  0.711380  0.754722  0.724721    177527\n",
      "weighted avg               0.981896  0.980578  0.980816    177527\n"
     ]
    }
   ],
   "source": [
    "print(\"FP Rate (FPR):\", round(pred_metrics.weighted_fpr, 4))\n",
    "print(\"FN Rate (FNR):\", round(pred_metrics.weighted_fnr, 4))\n",
    "print(\"Detection Rate:\", round(pred_metrics.weighted_detection_rate, 4))\n",
    "print(\"False Alarm Rate (FAR):\", round(pred_metrics.false_alarm_rate, 4))\n",
    "print(\"Accuracy: \", round(pred_metrics.classification_report.loc[\"accuracy\"].iloc[0], 4))\n",
    "\n",
    "pred_metrics.classification_report.columns = [\"Precision\", \"Recall\", \"F1-score\", \"Quantity\"]\n",
    "pred_metrics.classification_report = pred_metrics.classification_report.astype({\"Quantity\": int})\n",
    "pred_metrics.classification_report.drop(\"accuracy\", axis=0, inplace=True)\n",
    "\n",
    "print(\"\\n\", pred_metrics.classification_report)"
   ]
  },
  {
   "cell_type": "code",
   "execution_count": 23,
   "metadata": {},
   "outputs": [],
   "source": [
    "model.save(\"models_save/25_classifier_standalone.h5\")"
   ]
  },
  {
   "cell_type": "markdown",
   "metadata": {},
   "source": [
    "### Classifier (50% data)"
   ]
  },
  {
   "cell_type": "code",
   "execution_count": 24,
   "metadata": {},
   "outputs": [],
   "source": [
    "x_train = np.load(\"data/preserve50/x_train.npy\")\n",
    "y_train = np.load(\"data/preserve50/y_train.npy\")\n",
    "x_test = np.load(\"data/preserve50/x_test.npy\")\n",
    "y_test = np.load(\"data/preserve50/y_test.npy\")"
   ]
  },
  {
   "cell_type": "code",
   "execution_count": 25,
   "metadata": {},
   "outputs": [],
   "source": [
    "y_train = tf.keras.utils.to_categorical(y_train)\n",
    "y_test_onehot = tf.keras.utils.to_categorical(y_test)"
   ]
  },
  {
   "cell_type": "code",
   "execution_count": 26,
   "metadata": {},
   "outputs": [],
   "source": [
    "model = tf.keras.models.Sequential([\n",
    "        tf.keras.layers.InputLayer(input_shape=(31,)),\n",
    "        tf.keras.layers.Dense(128, activation=\"relu\"),\n",
    "        tf.keras.layers.Dropout(0.3),\n",
    "        tf.keras.layers.Dense(256, activation=\"relu\"),\n",
    "        tf.keras.layers.Dropout(0.3),\n",
    "        tf.keras.layers.Dense(128, activation=\"relu\"),\n",
    "        tf.keras.layers.Dropout(0.3),\n",
    "        tf.keras.layers.Dense(15, activation=\"softmax\")\n",
    "])"
   ]
  },
  {
   "cell_type": "code",
   "execution_count": 27,
   "metadata": {},
   "outputs": [],
   "source": [
    "model.compile(optimizer=\"adamax\",\n",
    "              loss=\"categorical_crossentropy\",\n",
    "              metrics=[\"accuracy\"])"
   ]
  },
  {
   "cell_type": "code",
   "execution_count": 28,
   "metadata": {
    "scrolled": true
   },
   "outputs": [
    {
     "name": "stdout",
     "output_type": "stream",
     "text": [
      "Epoch 1/100\n",
      "8298/8298 [==============================] - 34s 4ms/step - loss: 0.1467 - accuracy: 0.9525\n",
      "Epoch 2/100\n",
      "8298/8298 [==============================] - 33s 4ms/step - loss: 0.0828 - accuracy: 0.9675\n",
      "Epoch 3/100\n",
      "8298/8298 [==============================] - 33s 4ms/step - loss: 0.0708 - accuracy: 0.9708\n",
      "Epoch 4/100\n",
      "8298/8298 [==============================] - 33s 4ms/step - loss: 0.0654 - accuracy: 0.9725\n",
      "Epoch 5/100\n",
      "8298/8298 [==============================] - 34s 4ms/step - loss: 0.0620 - accuracy: 0.9738\n",
      "Epoch 6/100\n",
      "8298/8298 [==============================] - 34s 4ms/step - loss: 0.0597 - accuracy: 0.9750\n",
      "Epoch 7/100\n",
      "8298/8298 [==============================] - 35s 4ms/step - loss: 0.0581 - accuracy: 0.9759\n",
      "Epoch 8/100\n",
      "8298/8298 [==============================] - 34s 4ms/step - loss: 0.0567 - accuracy: 0.9765\n",
      "Epoch 9/100\n",
      "8298/8298 [==============================] - 34s 4ms/step - loss: 0.0556 - accuracy: 0.9771\n",
      "Epoch 10/100\n",
      "8298/8298 [==============================] - 32s 4ms/step - loss: 0.0546 - accuracy: 0.9775\n",
      "Epoch 11/100\n",
      "8298/8298 [==============================] - 32s 4ms/step - loss: 0.0535 - accuracy: 0.9781\n",
      "Epoch 12/100\n",
      "8298/8298 [==============================] - 32s 4ms/step - loss: 0.0530 - accuracy: 0.9784\n",
      "Epoch 13/100\n",
      "8298/8298 [==============================] - 32s 4ms/step - loss: 0.0524 - accuracy: 0.9787\n",
      "Epoch 14/100\n",
      "8298/8298 [==============================] - 32s 4ms/step - loss: 0.0516 - accuracy: 0.9789\n",
      "Epoch 15/100\n",
      "8298/8298 [==============================] - 38s 5ms/step - loss: 0.0512 - accuracy: 0.9791\n",
      "Epoch 16/100\n",
      "8298/8298 [==============================] - 37s 4ms/step - loss: 0.0510 - accuracy: 0.9794\n",
      "Epoch 17/100\n",
      "8298/8298 [==============================] - 35s 4ms/step - loss: 0.0504 - accuracy: 0.9796\n",
      "Epoch 18/100\n",
      "8298/8298 [==============================] - 35s 4ms/step - loss: 0.0499 - accuracy: 0.9798\n",
      "Epoch 19/100\n",
      "8298/8298 [==============================] - 35s 4ms/step - loss: 0.0494 - accuracy: 0.9800\n",
      "Epoch 20/100\n",
      "8298/8298 [==============================] - 35s 4ms/step - loss: 0.0493 - accuracy: 0.9800\n",
      "Epoch 21/100\n",
      "8298/8298 [==============================] - 35s 4ms/step - loss: 0.0484 - accuracy: 0.9805\n",
      "Epoch 22/100\n",
      "8298/8298 [==============================] - 35s 4ms/step - loss: 0.0485 - accuracy: 0.9804\n",
      "Epoch 23/100\n",
      "8298/8298 [==============================] - 35s 4ms/step - loss: 0.0480 - accuracy: 0.9806\n",
      "Epoch 24/100\n",
      "8298/8298 [==============================] - 36s 4ms/step - loss: 0.0477 - accuracy: 0.9807\n",
      "Epoch 25/100\n",
      "8298/8298 [==============================] - 35s 4ms/step - loss: 0.0476 - accuracy: 0.9808\n",
      "Epoch 26/100\n",
      "8298/8298 [==============================] - 33s 4ms/step - loss: 0.0473 - accuracy: 0.9807\n",
      "Epoch 27/100\n",
      "8298/8298 [==============================] - 36s 4ms/step - loss: 0.0469 - accuracy: 0.9811\n",
      "Epoch 28/100\n",
      "8298/8298 [==============================] - 38s 5ms/step - loss: 0.0470 - accuracy: 0.9810\n",
      "Epoch 29/100\n",
      "8298/8298 [==============================] - 37s 4ms/step - loss: 0.0467 - accuracy: 0.9812\n",
      "Epoch 30/100\n",
      "8298/8298 [==============================] - 35s 4ms/step - loss: 0.0465 - accuracy: 0.9812\n",
      "Epoch 31/100\n",
      "8298/8298 [==============================] - 35s 4ms/step - loss: 0.0464 - accuracy: 0.9812\n",
      "Epoch 32/100\n",
      "8298/8298 [==============================] - 36s 4ms/step - loss: 0.0462 - accuracy: 0.9814\n",
      "Epoch 33/100\n",
      "8298/8298 [==============================] - 37s 4ms/step - loss: 0.0460 - accuracy: 0.9814\n",
      "Epoch 34/100\n",
      "8298/8298 [==============================] - 38s 5ms/step - loss: 0.0459 - accuracy: 0.9814\n",
      "Epoch 35/100\n",
      "8298/8298 [==============================] - 37s 5ms/step - loss: 0.0459 - accuracy: 0.9815\n",
      "Epoch 36/100\n",
      "8298/8298 [==============================] - 37s 4ms/step - loss: 0.0458 - accuracy: 0.9816\n",
      "Epoch 37/100\n",
      "8298/8298 [==============================] - 35s 4ms/step - loss: 0.0456 - accuracy: 0.9815\n",
      "Epoch 38/100\n",
      "8298/8298 [==============================] - 35s 4ms/step - loss: 0.0456 - accuracy: 0.9816\n",
      "Epoch 39/100\n",
      "8298/8298 [==============================] - 35s 4ms/step - loss: 0.0453 - accuracy: 0.9819\n",
      "Epoch 40/100\n",
      "8298/8298 [==============================] - 35s 4ms/step - loss: 0.0450 - accuracy: 0.9818\n",
      "Epoch 41/100\n",
      "8298/8298 [==============================] - 35s 4ms/step - loss: 0.0445 - accuracy: 0.9821\n",
      "Epoch 42/100\n",
      "8298/8298 [==============================] - 34s 4ms/step - loss: 0.0452 - accuracy: 0.9819\n",
      "Epoch 43/100\n",
      "8298/8298 [==============================] - 34s 4ms/step - loss: 0.0451 - accuracy: 0.9818\n",
      "Epoch 44/100\n",
      "8298/8298 [==============================] - 33s 4ms/step - loss: 0.0451 - accuracy: 0.9817\n",
      "Epoch 45/100\n",
      "8298/8298 [==============================] - 34s 4ms/step - loss: 0.0448 - accuracy: 0.9820\n",
      "Epoch 46/100\n",
      "8298/8298 [==============================] - 34s 4ms/step - loss: 0.0446 - accuracy: 0.9821\n"
     ]
    },
    {
     "data": {
      "text/plain": [
       "<tensorflow.python.keras.callbacks.History at 0x20240b27be0>"
      ]
     },
     "execution_count": 28,
     "metadata": {},
     "output_type": "execute_result"
    }
   ],
   "source": [
    "model.fit(x_train,\n",
    "          y_train,\n",
    "          epochs=100,\n",
    "          callbacks=[earlystop_callback],\n",
    "          batch_size=128\n",
    "         )"
   ]
  },
  {
   "cell_type": "markdown",
   "metadata": {},
   "source": [
    "**Evaluate**"
   ]
  },
  {
   "cell_type": "code",
   "execution_count": 29,
   "metadata": {},
   "outputs": [
    {
     "name": "stdout",
     "output_type": "stream",
     "text": [
      "11063/11063 - 19s - loss: 0.0406 - accuracy: 0.9844\n"
     ]
    },
    {
     "data": {
      "text/plain": [
       "[0.040626417845487595, 0.9844297170639038]"
      ]
     },
     "execution_count": 29,
     "metadata": {},
     "output_type": "execute_result"
    }
   ],
   "source": [
    "model.evaluate(x_test, \n",
    "               y_test_onehot, \n",
    "               verbose=2)"
   ]
  },
  {
   "cell_type": "code",
   "execution_count": 30,
   "metadata": {},
   "outputs": [],
   "source": [
    "x_test = pd.DataFrame(x_test)\n",
    "y_test = pd.DataFrame(y_test)"
   ]
  },
  {
   "cell_type": "code",
   "execution_count": 31,
   "metadata": {},
   "outputs": [],
   "source": [
    "predictions = make_prediction(model, x_test, y_test)\n",
    "pred_metrics = get_prediction_metrics(predictions)"
   ]
  },
  {
   "cell_type": "code",
   "execution_count": 32,
   "metadata": {},
   "outputs": [
    {
     "name": "stdout",
     "output_type": "stream",
     "text": [
      "FP Rate (FPR): 0.0006\n",
      "FN Rate (FNR): 0.1015\n",
      "Detection Rate: 0.8985\n",
      "False Alarm Rate (FAR): 0.051\n",
      "Accuracy:  0.9844\n",
      "\n",
      "                           Precision    Recall  F1-score  Quantity\n",
      "BENIGN                     0.991948  0.988849  0.990396    283911\n",
      "Bot                        0.731235  0.604000  0.661555       500\n",
      "DDoS                       0.998350  0.985718  0.991994     15964\n",
      "DoS_GoldenEye              0.971384  0.982786  0.977052      1278\n",
      "DoS_Hulk                   0.970707  0.990843  0.980672     28829\n",
      "DoS_Slowhttptest           0.867198  0.976084  0.918425       669\n",
      "DoS_slowloris              0.960053  0.976965  0.968435       738\n",
      "FTPPatator                 0.992986  0.991000  0.991992      1000\n",
      "Heartbleed                 0.000000  0.000000  0.000000         2\n",
      "Infiltration               0.000000  0.000000  0.000000         6\n",
      "PortScan                   0.903064  0.944598  0.923364     19873\n",
      "SSHPatator                 0.945241  0.981055  0.962815       739\n",
      "Web_Attack_Brute_Force     0.909091  0.088235  0.160858       340\n",
      "Web_Attack_Sql_Injection   0.000000  0.000000  0.000000         6\n",
      "Web_Attack_XSS             0.000000  0.000000  0.000000       153\n",
      "macro avg                  0.682751  0.634009  0.635171    354008\n",
      "weighted avg               0.984130  0.984430  0.983902    354008\n"
     ]
    }
   ],
   "source": [
    "print(\"FP Rate (FPR):\", round(pred_metrics.weighted_fpr, 4))\n",
    "print(\"FN Rate (FNR):\", round(pred_metrics.weighted_fnr, 4))\n",
    "print(\"Detection Rate:\", round(pred_metrics.weighted_detection_rate, 4))\n",
    "print(\"False Alarm Rate (FAR):\", round(pred_metrics.false_alarm_rate, 4))\n",
    "print(\"Accuracy: \", round(pred_metrics.classification_report.loc[\"accuracy\"].iloc[0], 4))\n",
    "\n",
    "pred_metrics.classification_report.columns = [\"Precision\", \"Recall\", \"F1-score\", \"Quantity\"]\n",
    "pred_metrics.classification_report = pred_metrics.classification_report.astype({\"Quantity\": int})\n",
    "pred_metrics.classification_report.drop(\"accuracy\", axis=0, inplace=True)\n",
    "\n",
    "print(\"\\n\", pred_metrics.classification_report)"
   ]
  },
  {
   "cell_type": "code",
   "execution_count": 33,
   "metadata": {},
   "outputs": [],
   "source": [
    "model.save(\"models_save/50_classifier_standalone.h5\")"
   ]
  },
  {
   "cell_type": "markdown",
   "metadata": {},
   "source": [
    "### Classifier (100% data)"
   ]
  },
  {
   "cell_type": "code",
   "execution_count": 34,
   "metadata": {},
   "outputs": [],
   "source": [
    "x_train = np.load(\"data/preserve100/x_train.npy\")\n",
    "y_train = np.load(\"data/preserve100/y_train.npy\")\n",
    "x_test = np.load(\"data/preserve100/x_test.npy\")\n",
    "y_test = np.load(\"data/preserve100/y_test.npy\")"
   ]
  },
  {
   "cell_type": "code",
   "execution_count": 35,
   "metadata": {},
   "outputs": [],
   "source": [
    "y_train = tf.keras.utils.to_categorical(y_train)\n",
    "y_test_onehot = tf.keras.utils.to_categorical(y_test)"
   ]
  },
  {
   "cell_type": "code",
   "execution_count": 36,
   "metadata": {},
   "outputs": [],
   "source": [
    "model = tf.keras.models.Sequential([\n",
    "        tf.keras.layers.InputLayer(input_shape=(31,)),\n",
    "        tf.keras.layers.Dense(128, activation=\"relu\"),\n",
    "        tf.keras.layers.Dropout(0.3),\n",
    "        tf.keras.layers.Dense(256, activation=\"relu\"),\n",
    "        tf.keras.layers.Dropout(0.3),\n",
    "        tf.keras.layers.Dense(128, activation=\"relu\"),\n",
    "        tf.keras.layers.Dropout(0.3),\n",
    "        tf.keras.layers.Dense(15, activation=\"softmax\")\n",
    "])"
   ]
  },
  {
   "cell_type": "code",
   "execution_count": 37,
   "metadata": {},
   "outputs": [],
   "source": [
    "model.compile(optimizer=\"adamax\",\n",
    "              loss=\"categorical_crossentropy\",\n",
    "              metrics=[\"accuracy\"])"
   ]
  },
  {
   "cell_type": "code",
   "execution_count": 38,
   "metadata": {
    "scrolled": true
   },
   "outputs": [
    {
     "name": "stdout",
     "output_type": "stream",
     "text": [
      "Epoch 1/100\n",
      "16570/16570 [==============================] - 65s 4ms/step - loss: 0.1119 - accuracy: 0.9607\n",
      "Epoch 2/100\n",
      "16570/16570 [==============================] - 68s 4ms/step - loss: 0.0662 - accuracy: 0.9723\n",
      "Epoch 3/100\n",
      "16570/16570 [==============================] - 68s 4ms/step - loss: 0.0588 - accuracy: 0.9752\n",
      "Epoch 4/100\n",
      "16570/16570 [==============================] - 67s 4ms/step - loss: 0.0551 - accuracy: 0.9772\n",
      "Epoch 5/100\n",
      "16570/16570 [==============================] - 70s 4ms/step - loss: 0.0525 - accuracy: 0.9784\n",
      "Epoch 6/100\n",
      "16570/16570 [==============================] - 69s 4ms/step - loss: 0.0509 - accuracy: 0.9791\n",
      "Epoch 7/100\n",
      "16570/16570 [==============================] - 66s 4ms/step - loss: 0.0494 - accuracy: 0.9799\n",
      "Epoch 8/100\n",
      "16570/16570 [==============================] - 69s 4ms/step - loss: 0.0484 - accuracy: 0.9803\n",
      "Epoch 9/100\n",
      "16570/16570 [==============================] - 67s 4ms/step - loss: 0.0475 - accuracy: 0.9806\n",
      "Epoch 10/100\n",
      "16570/16570 [==============================] - 67s 4ms/step - loss: 0.0467 - accuracy: 0.9811\n",
      "Epoch 11/100\n",
      "16570/16570 [==============================] - 69s 4ms/step - loss: 0.0461 - accuracy: 0.9813\n",
      "Epoch 12/100\n",
      "16570/16570 [==============================] - 67s 4ms/step - loss: 0.0454 - accuracy: 0.9817\n",
      "Epoch 13/100\n",
      "16570/16570 [==============================] - 66s 4ms/step - loss: 0.0451 - accuracy: 0.9815\n",
      "Epoch 14/100\n",
      "16570/16570 [==============================] - 64s 4ms/step - loss: 0.0445 - accuracy: 0.9819\n",
      "Epoch 15/100\n",
      "16570/16570 [==============================] - 63s 4ms/step - loss: 0.0444 - accuracy: 0.9819\n",
      "Epoch 16/100\n",
      "16570/16570 [==============================] - 64s 4ms/step - loss: 0.0437 - accuracy: 0.9824\n",
      "Epoch 17/100\n",
      "16570/16570 [==============================] - 64s 4ms/step - loss: 0.0435 - accuracy: 0.9825\n",
      "Epoch 18/100\n",
      "16570/16570 [==============================] - 67s 4ms/step - loss: 0.0430 - accuracy: 0.9826\n",
      "Epoch 19/100\n",
      "16570/16570 [==============================] - 67s 4ms/step - loss: 0.0430 - accuracy: 0.9825\n",
      "Epoch 20/100\n",
      "16570/16570 [==============================] - 69s 4ms/step - loss: 0.0426 - accuracy: 0.9828\n",
      "Epoch 21/100\n",
      "16570/16570 [==============================] - 67s 4ms/step - loss: 0.0425 - accuracy: 0.9829\n",
      "Epoch 22/100\n",
      "16570/16570 [==============================] - 68s 4ms/step - loss: 0.0424 - accuracy: 0.9829\n",
      "Epoch 23/100\n",
      "16570/16570 [==============================] - 67s 4ms/step - loss: 0.0420 - accuracy: 0.9831\n",
      "Epoch 24/100\n",
      "16570/16570 [==============================] - 68s 4ms/step - loss: 0.0418 - accuracy: 0.9832\n",
      "Epoch 25/100\n",
      "16570/16570 [==============================] - 68s 4ms/step - loss: 0.0416 - accuracy: 0.9832\n",
      "Epoch 26/100\n",
      "16570/16570 [==============================] - 67s 4ms/step - loss: 0.0414 - accuracy: 0.9832\n",
      "Epoch 27/100\n",
      "16570/16570 [==============================] - 66s 4ms/step - loss: 0.0412 - accuracy: 0.9835\n",
      "Epoch 28/100\n",
      "16570/16570 [==============================] - 66s 4ms/step - loss: 0.0415 - accuracy: 0.9833\n",
      "Epoch 29/100\n",
      "16570/16570 [==============================] - 72s 4ms/step - loss: 0.0412 - accuracy: 0.9835\n",
      "Epoch 30/100\n",
      "16570/16570 [==============================] - 65s 4ms/step - loss: 0.0413 - accuracy: 0.9834\n",
      "Epoch 31/100\n",
      "16570/16570 [==============================] - 63s 4ms/step - loss: 0.0410 - accuracy: 0.9836\n",
      "Epoch 32/100\n",
      "16570/16570 [==============================] - 64s 4ms/step - loss: 0.0407 - accuracy: 0.9837\n",
      "Epoch 33/100\n",
      "16570/16570 [==============================] - 64s 4ms/step - loss: 0.0407 - accuracy: 0.9836\n",
      "Epoch 34/100\n",
      "16570/16570 [==============================] - 68s 4ms/step - loss: 0.0407 - accuracy: 0.9836\n",
      "Epoch 35/100\n",
      "16570/16570 [==============================] - 65s 4ms/step - loss: 0.0405 - accuracy: 0.9838\n",
      "Epoch 36/100\n",
      "16570/16570 [==============================] - 61s 4ms/step - loss: 0.0406 - accuracy: 0.9836\n",
      "Epoch 37/100\n",
      "16570/16570 [==============================] - 72s 4ms/step - loss: 0.0406 - accuracy: 0.9836\n",
      "Epoch 38/100\n",
      "16570/16570 [==============================] - 74s 4ms/step - loss: 0.0405 - accuracy: 0.9839\n",
      "Epoch 39/100\n",
      "16570/16570 [==============================] - 75s 5ms/step - loss: 0.0403 - accuracy: 0.9838\n",
      "Epoch 40/100\n",
      "16570/16570 [==============================] - 74s 4ms/step - loss: 0.0403 - accuracy: 0.9839\n"
     ]
    },
    {
     "data": {
      "text/plain": [
       "<tensorflow.python.keras.callbacks.History at 0x202901903d0>"
      ]
     },
     "execution_count": 38,
     "metadata": {},
     "output_type": "execute_result"
    }
   ],
   "source": [
    "model.fit(x_train,\n",
    "          y_train,\n",
    "          epochs=100,\n",
    "          callbacks=[earlystop_callback],\n",
    "          batch_size=128\n",
    "         )"
   ]
  },
  {
   "cell_type": "markdown",
   "metadata": {},
   "source": [
    "**Evaluate**"
   ]
  },
  {
   "cell_type": "code",
   "execution_count": 39,
   "metadata": {
    "scrolled": true
   },
   "outputs": [
    {
     "name": "stdout",
     "output_type": "stream",
     "text": [
      "22093/22093 - 38s - loss: 0.0359 - accuracy: 0.9852\n"
     ]
    },
    {
     "data": {
      "text/plain": [
       "[0.03587724268436432, 0.9851648211479187]"
      ]
     },
     "execution_count": 39,
     "metadata": {},
     "output_type": "execute_result"
    }
   ],
   "source": [
    "model.evaluate(x_test, \n",
    "               y_test_onehot, \n",
    "               verbose=2)"
   ]
  },
  {
   "cell_type": "code",
   "execution_count": 40,
   "metadata": {},
   "outputs": [],
   "source": [
    "x_test = pd.DataFrame(x_test)\n",
    "y_test = pd.DataFrame(y_test)"
   ]
  },
  {
   "cell_type": "code",
   "execution_count": 41,
   "metadata": {},
   "outputs": [],
   "source": [
    "predictions = make_prediction(model, x_test, y_test)\n",
    "pred_metrics = get_prediction_metrics(predictions)"
   ]
  },
  {
   "cell_type": "code",
   "execution_count": 42,
   "metadata": {
    "scrolled": false
   },
   "outputs": [
    {
     "name": "stdout",
     "output_type": "stream",
     "text": [
      "FP Rate (FPR): 0.0002\n",
      "FN Rate (FNR): 0.0782\n",
      "Detection Rate: 0.9218\n",
      "False Alarm Rate (FAR): 0.0392\n",
      "Accuracy:  0.9852\n",
      "\n",
      "                           Precision    Recall  F1-score  Quantity\n",
      "BENIGN                     0.992337  0.989356  0.990845    568229\n",
      "Bot                        0.993865  0.334711  0.500773       484\n",
      "DDoS                       0.998696  0.986768  0.992696     31818\n",
      "DoS_GoldenEye              0.975994  0.980625  0.978304      2529\n",
      "DoS_Hulk                   0.966539  0.990601  0.978422     57561\n",
      "DoS_Slowhttptest           0.884326  0.980273  0.929831      1318\n",
      "DoS_slowloris              0.972279  0.982912  0.977566      1463\n",
      "FTPPatator                 0.995970  0.990977  0.993467      1995\n",
      "Heartbleed                 0.000000  0.000000  0.000000         4\n",
      "Infiltration               0.000000  0.000000  0.000000         7\n",
      "PortScan                   0.907606  0.936991  0.922065     39566\n",
      "SSHPatator                 0.950369  0.975895  0.962963      1452\n",
      "Web_Attack_Brute_Force     0.916667  0.116711  0.207059       377\n",
      "Web_Attack_Sql_Injection   0.000000  0.000000  0.000000         4\n",
      "Web_Attack_XSS             0.000000  0.000000  0.000000       162\n",
      "macro avg                  0.703643  0.617721  0.628933    706969\n",
      "weighted avg               0.985116  0.985165  0.984830    706969\n"
     ]
    }
   ],
   "source": [
    "print(\"FP Rate (FPR):\", round(pred_metrics.weighted_fpr, 4))\n",
    "print(\"FN Rate (FNR):\", round(pred_metrics.weighted_fnr, 4))\n",
    "print(\"Detection Rate:\", round(pred_metrics.weighted_detection_rate, 4))\n",
    "print(\"False Alarm Rate (FAR):\", round(pred_metrics.false_alarm_rate, 4))\n",
    "print(\"Accuracy: \", round(pred_metrics.classification_report.loc[\"accuracy\"].iloc[0], 4))\n",
    "\n",
    "pred_metrics.classification_report.columns = [\"Precision\", \"Recall\", \"F1-score\", \"Quantity\"]\n",
    "pred_metrics.classification_report = pred_metrics.classification_report.astype({\"Quantity\": int})\n",
    "pred_metrics.classification_report.drop(\"accuracy\", axis=0, inplace=True)\n",
    "\n",
    "print(\"\\n\", pred_metrics.classification_report)"
   ]
  },
  {
   "cell_type": "code",
   "execution_count": 43,
   "metadata": {},
   "outputs": [],
   "source": [
    "model.save(\"models_save/100_classifier_standalone.h5\")"
   ]
  }
 ],
 "metadata": {
  "kernelspec": {
   "display_name": "Python 3 (ipykernel)",
   "language": "python",
   "name": "python3"
  },
  "language_info": {
   "codemirror_mode": {
    "name": "ipython",
    "version": 3
   },
   "file_extension": ".py",
   "mimetype": "text/x-python",
   "name": "python",
   "nbconvert_exporter": "python",
   "pygments_lexer": "ipython3",
   "version": "3.8.10"
  },
  "toc": {
   "base_numbering": 1,
   "nav_menu": {},
   "number_sections": true,
   "sideBar": true,
   "skip_h1_title": false,
   "title_cell": "Table of Contents",
   "title_sidebar": "Contents",
   "toc_cell": false,
   "toc_position": {},
   "toc_section_display": true,
   "toc_window_display": false
  },
  "varInspector": {
   "cols": {
    "lenName": 16,
    "lenType": 16,
    "lenVar": 40
   },
   "kernels_config": {
    "python": {
     "delete_cmd_postfix": "",
     "delete_cmd_prefix": "del ",
     "library": "var_list.py",
     "varRefreshCmd": "print(var_dic_list())"
    },
    "r": {
     "delete_cmd_postfix": ") ",
     "delete_cmd_prefix": "rm(",
     "library": "var_list.r",
     "varRefreshCmd": "cat(var_dic_list()) "
    }
   },
   "position": {
    "height": "307px",
    "left": "1204px",
    "right": "20px",
    "top": "108px",
    "width": "425px"
   },
   "types_to_exclude": [
    "module",
    "function",
    "builtin_function_or_method",
    "instance",
    "_Feature"
   ],
   "window_display": false
  }
 },
 "nbformat": 4,
 "nbformat_minor": 4
}
