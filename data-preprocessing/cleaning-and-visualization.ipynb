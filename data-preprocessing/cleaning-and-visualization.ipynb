{
 "cells": [
  {
   "cell_type": "code",
   "execution_count": 1,
   "metadata": {},
   "outputs": [],
   "source": [
    "import pandas as pd"
   ]
  },
  {
   "cell_type": "code",
   "execution_count": 2,
   "metadata": {},
   "outputs": [],
   "source": [
    "from pathlib import Path"
   ]
  },
  {
   "cell_type": "markdown",
   "metadata": {},
   "source": [
    "**Reading data**"
   ]
  },
  {
   "cell_type": "code",
   "execution_count": 3,
   "metadata": {},
   "outputs": [],
   "source": [
    "files = Path(\"./cic-ids-2017/MachineLearningCSV/\").rglob(\"*.csv\")"
   ]
  },
  {
   "cell_type": "code",
   "execution_count": 4,
   "metadata": {},
   "outputs": [],
   "source": [
    "df = [pd.read_csv(file) for file in files]"
   ]
  },
  {
   "cell_type": "code",
   "execution_count": 5,
   "metadata": {},
   "outputs": [],
   "source": [
    "df = pd.concat(df)"
   ]
  },
  {
   "cell_type": "markdown",
   "metadata": {},
   "source": [
    "Renaming columns, removing spaces, switching to lowerecase."
   ]
  },
  {
   "cell_type": "code",
   "execution_count": 6,
   "metadata": {},
   "outputs": [],
   "source": [
    "df.columns = [col.strip().replace(\" \", \"_\").lower() for col in df.columns]"
   ]
  },
  {
   "cell_type": "markdown",
   "metadata": {},
   "source": [
    "**Renaming labels**"
   ]
  },
  {
   "cell_type": "code",
   "execution_count": 7,
   "metadata": {},
   "outputs": [
    {
     "data": {
      "text/plain": [
       "(['BENIGN',\n",
       "  'DDoS',\n",
       "  'PortScan',\n",
       "  'Bot',\n",
       "  'Infiltration',\n",
       "  'Web_Attack_Brute_Force',\n",
       "  'Web_Attack_XSS',\n",
       "  'Web_Attack_Sql_Injection',\n",
       "  'FTPPatator',\n",
       "  'SSHPatator',\n",
       "  'DoS_slowloris',\n",
       "  'DoS_Slowhttptest',\n",
       "  'DoS_Hulk',\n",
       "  'DoS_GoldenEye',\n",
       "  'Heartbleed'],\n",
       " 15)"
      ]
     },
     "execution_count": 7,
     "metadata": {},
     "output_type": "execute_result"
    }
   ],
   "source": [
    "label_names = df['label'].unique()\n",
    "\n",
    "\n",
    "import re\n",
    "\n",
    "label_names = [re.sub(\"[^a-zA-Z ]+\", \"\", l) for l in label_names]\n",
    "label_names = [re.sub(\"[\\s\\s]\", '_', l) for l in label_names]\n",
    "label_names = [lab.replace(\"__\", \"_\") for lab in label_names]\n",
    "\n",
    "label_names, len(label_names)"
   ]
  },
  {
   "cell_type": "code",
   "execution_count": 8,
   "metadata": {},
   "outputs": [],
   "source": [
    "# Replacing 'Label' column values with new readable values.\n",
    "\n",
    "labels = df['label'].unique()\n",
    "\n",
    "for i in range(0,len(label_names)):\n",
    "    df['label'] = df['label'].replace({labels[i] : label_names[i]})"
   ]
  },
  {
   "cell_type": "code",
   "execution_count": 9,
   "metadata": {
    "scrolled": true
   },
   "outputs": [
    {
     "data": {
      "text/plain": [
       "array(['BENIGN', 'DDoS', 'PortScan', 'Bot', 'Infiltration',\n",
       "       'Web_Attack_Brute_Force', 'Web_Attack_XSS',\n",
       "       'Web_Attack_Sql_Injection', 'FTPPatator', 'SSHPatator',\n",
       "       'DoS_slowloris', 'DoS_Slowhttptest', 'DoS_Hulk', 'DoS_GoldenEye',\n",
       "       'Heartbleed'], dtype=object)"
      ]
     },
     "execution_count": 9,
     "metadata": {},
     "output_type": "execute_result"
    }
   ],
   "source": [
    "df.label.unique()"
   ]
  },
  {
   "cell_type": "markdown",
   "metadata": {},
   "source": [
    "**Removing NULL values**"
   ]
  },
  {
   "cell_type": "code",
   "execution_count": 10,
   "metadata": {},
   "outputs": [
    {
     "data": {
      "text/plain": [
       "True"
      ]
     },
     "execution_count": 10,
     "metadata": {},
     "output_type": "execute_result"
    }
   ],
   "source": [
    "df.isnull().values.any()"
   ]
  },
  {
   "cell_type": "code",
   "execution_count": 11,
   "metadata": {},
   "outputs": [
    {
     "data": {
      "text/plain": [
       "['flow_bytes/s']"
      ]
     },
     "execution_count": 11,
     "metadata": {},
     "output_type": "execute_result"
    }
   ],
   "source": [
    "[col for col in df if df[col].isnull().values.any()]"
   ]
  },
  {
   "cell_type": "code",
   "execution_count": 12,
   "metadata": {},
   "outputs": [
    {
     "data": {
      "text/plain": [
       "1358"
      ]
     },
     "execution_count": 12,
     "metadata": {},
     "output_type": "execute_result"
    }
   ],
   "source": [
    "df['flow_bytes/s'].isnull().sum()"
   ]
  },
  {
   "cell_type": "code",
   "execution_count": 13,
   "metadata": {
    "scrolled": true
   },
   "outputs": [
    {
     "data": {
      "text/plain": [
       "0.04797327062188267"
      ]
     },
     "execution_count": 13,
     "metadata": {},
     "output_type": "execute_result"
    }
   ],
   "source": [
    "(1358 / df.shape[0])*100"
   ]
  },
  {
   "cell_type": "code",
   "execution_count": 14,
   "metadata": {},
   "outputs": [
    {
     "data": {
      "text/plain": [
       "1358"
      ]
     },
     "execution_count": 14,
     "metadata": {},
     "output_type": "execute_result"
    }
   ],
   "source": [
    "before = df.shape\n",
    "\n",
    "df.dropna(inplace=True)\n",
    "\n",
    "after = df.shape\n",
    "\n",
    "before[0] - after[0]"
   ]
  },
  {
   "cell_type": "code",
   "execution_count": 15,
   "metadata": {},
   "outputs": [
    {
     "data": {
      "text/plain": [
       "False"
      ]
     },
     "execution_count": 15,
     "metadata": {},
     "output_type": "execute_result"
    }
   ],
   "source": [
    "df.isnull().any().any()"
   ]
  },
  {
   "cell_type": "markdown",
   "metadata": {},
   "source": [
    "**Removing infinite values**"
   ]
  },
  {
   "cell_type": "code",
   "execution_count": 16,
   "metadata": {},
   "outputs": [],
   "source": [
    "import numpy as np"
   ]
  },
  {
   "cell_type": "code",
   "execution_count": 21,
   "metadata": {},
   "outputs": [
    {
     "data": {
      "text/plain": [
       "False"
      ]
     },
     "execution_count": 21,
     "metadata": {},
     "output_type": "execute_result"
    }
   ],
   "source": [
    "np.all(np.isfinite(df.iloc[:,:-1]))"
   ]
  },
  {
   "cell_type": "code",
   "execution_count": 22,
   "metadata": {},
   "outputs": [
    {
     "data": {
      "text/plain": [
       "['flow_bytes/s', 'flow_packets/s']"
      ]
     },
     "execution_count": 22,
     "metadata": {},
     "output_type": "execute_result"
    }
   ],
   "source": [
    "# Checking what column/s contain non-finite values.\n",
    "\n",
    "nonfinite = [col for col in df.iloc[:,:-1] if not np.all(np.isfinite(df[col]))]\n",
    "\n",
    "nonfinite"
   ]
  },
  {
   "cell_type": "code",
   "execution_count": 24,
   "metadata": {},
   "outputs": [
    {
     "data": {
      "text/plain": [
       "True"
      ]
     },
     "execution_count": 24,
     "metadata": {},
     "output_type": "execute_result"
    }
   ],
   "source": [
    "df.iloc[:,:-1] = df.iloc[:,:-1].replace([np.inf, -np.inf], np.nan)\n",
    "\n",
    "np.any(np.isnan(df.iloc[:,:-1]))"
   ]
  },
  {
   "cell_type": "code",
   "execution_count": 26,
   "metadata": {},
   "outputs": [
    {
     "name": "stdout",
     "output_type": "stream",
     "text": [
      "Before drop (2827876, 79)\n",
      "After drop (2827876, 79)\n",
      "The difference 0\n"
     ]
    }
   ],
   "source": [
    "before = df.shape\n",
    "print(\"Before drop\", before)\n",
    "\n",
    "df.dropna(inplace=True)\n",
    "\n",
    "print(\"After drop\", df.shape)\n",
    "print(\"The difference\", before[0] - df.shape[0])\n",
    "\n",
    "del before"
   ]
  },
  {
   "cell_type": "code",
   "execution_count": 27,
   "metadata": {},
   "outputs": [
    {
     "data": {
      "text/plain": [
       "True"
      ]
     },
     "execution_count": 27,
     "metadata": {},
     "output_type": "execute_result"
    }
   ],
   "source": [
    "np.all(np.isfinite(df.iloc[:,:-1]))"
   ]
  },
  {
   "cell_type": "markdown",
   "metadata": {},
   "source": [
    "**Saving clean data**"
   ]
  },
  {
   "cell_type": "code",
   "execution_count": 28,
   "metadata": {
    "scrolled": true
   },
   "outputs": [],
   "source": [
    "df.to_csv(\"clean1.csv\", index=False)"
   ]
  },
  {
   "cell_type": "markdown",
   "metadata": {},
   "source": [
    "**Data visualization**"
   ]
  },
  {
   "cell_type": "code",
   "execution_count": 29,
   "metadata": {},
   "outputs": [],
   "source": [
    "import seaborn as sns\n",
    "import matplotlib.pyplot as plt"
   ]
  },
  {
   "cell_type": "code",
   "execution_count": 30,
   "metadata": {},
   "outputs": [
    {
     "data": {
      "text/html": [
       "<div>\n",
       "<style scoped>\n",
       "    .dataframe tbody tr th:only-of-type {\n",
       "        vertical-align: middle;\n",
       "    }\n",
       "\n",
       "    .dataframe tbody tr th {\n",
       "        vertical-align: top;\n",
       "    }\n",
       "\n",
       "    .dataframe thead th {\n",
       "        text-align: right;\n",
       "    }\n",
       "</style>\n",
       "<table border=\"1\" class=\"dataframe\">\n",
       "  <thead>\n",
       "    <tr style=\"text-align: right;\">\n",
       "      <th></th>\n",
       "      <th>Count</th>\n",
       "      <th>Ratio</th>\n",
       "      <th>Ratio(%)</th>\n",
       "    </tr>\n",
       "  </thead>\n",
       "  <tbody>\n",
       "    <tr>\n",
       "      <th>BENIGN</th>\n",
       "      <td>2271320</td>\n",
       "      <td>0.803189</td>\n",
       "      <td>80.318939</td>\n",
       "    </tr>\n",
       "    <tr>\n",
       "      <th>DoS_Hulk</th>\n",
       "      <td>230124</td>\n",
       "      <td>0.081377</td>\n",
       "      <td>8.137698</td>\n",
       "    </tr>\n",
       "    <tr>\n",
       "      <th>PortScan</th>\n",
       "      <td>158804</td>\n",
       "      <td>0.056157</td>\n",
       "      <td>5.615663</td>\n",
       "    </tr>\n",
       "    <tr>\n",
       "      <th>DDoS</th>\n",
       "      <td>128025</td>\n",
       "      <td>0.045272</td>\n",
       "      <td>4.527249</td>\n",
       "    </tr>\n",
       "    <tr>\n",
       "      <th>DoS_GoldenEye</th>\n",
       "      <td>10293</td>\n",
       "      <td>0.003640</td>\n",
       "      <td>0.363983</td>\n",
       "    </tr>\n",
       "    <tr>\n",
       "      <th>FTPPatator</th>\n",
       "      <td>7935</td>\n",
       "      <td>0.002806</td>\n",
       "      <td>0.280599</td>\n",
       "    </tr>\n",
       "    <tr>\n",
       "      <th>SSHPatator</th>\n",
       "      <td>5897</td>\n",
       "      <td>0.002085</td>\n",
       "      <td>0.208531</td>\n",
       "    </tr>\n",
       "    <tr>\n",
       "      <th>DoS_slowloris</th>\n",
       "      <td>5796</td>\n",
       "      <td>0.002050</td>\n",
       "      <td>0.204959</td>\n",
       "    </tr>\n",
       "    <tr>\n",
       "      <th>DoS_Slowhttptest</th>\n",
       "      <td>5499</td>\n",
       "      <td>0.001945</td>\n",
       "      <td>0.194457</td>\n",
       "    </tr>\n",
       "    <tr>\n",
       "      <th>Bot</th>\n",
       "      <td>1956</td>\n",
       "      <td>0.000692</td>\n",
       "      <td>0.069169</td>\n",
       "    </tr>\n",
       "    <tr>\n",
       "      <th>Web_Attack_Brute_Force</th>\n",
       "      <td>1507</td>\n",
       "      <td>0.000533</td>\n",
       "      <td>0.053291</td>\n",
       "    </tr>\n",
       "    <tr>\n",
       "      <th>Web_Attack_XSS</th>\n",
       "      <td>652</td>\n",
       "      <td>0.000231</td>\n",
       "      <td>0.023056</td>\n",
       "    </tr>\n",
       "    <tr>\n",
       "      <th>Infiltration</th>\n",
       "      <td>36</td>\n",
       "      <td>0.000013</td>\n",
       "      <td>0.001273</td>\n",
       "    </tr>\n",
       "    <tr>\n",
       "      <th>Web_Attack_Sql_Injection</th>\n",
       "      <td>21</td>\n",
       "      <td>0.000007</td>\n",
       "      <td>0.000743</td>\n",
       "    </tr>\n",
       "    <tr>\n",
       "      <th>Heartbleed</th>\n",
       "      <td>11</td>\n",
       "      <td>0.000004</td>\n",
       "      <td>0.000389</td>\n",
       "    </tr>\n",
       "  </tbody>\n",
       "</table>\n",
       "</div>"
      ],
      "text/plain": [
       "                            Count     Ratio   Ratio(%)\n",
       "BENIGN                    2271320  0.803189  80.318939\n",
       "DoS_Hulk                   230124  0.081377   8.137698\n",
       "PortScan                   158804  0.056157   5.615663\n",
       "DDoS                       128025  0.045272   4.527249\n",
       "DoS_GoldenEye               10293  0.003640   0.363983\n",
       "FTPPatator                   7935  0.002806   0.280599\n",
       "SSHPatator                   5897  0.002085   0.208531\n",
       "DoS_slowloris                5796  0.002050   0.204959\n",
       "DoS_Slowhttptest             5499  0.001945   0.194457\n",
       "Bot                          1956  0.000692   0.069169\n",
       "Web_Attack_Brute_Force       1507  0.000533   0.053291\n",
       "Web_Attack_XSS                652  0.000231   0.023056\n",
       "Infiltration                   36  0.000013   0.001273\n",
       "Web_Attack_Sql_Injection       21  0.000007   0.000743\n",
       "Heartbleed                     11  0.000004   0.000389"
      ]
     },
     "execution_count": 30,
     "metadata": {},
     "output_type": "execute_result"
    }
   ],
   "source": [
    "label_groupby = df.label.value_counts()\n",
    "labels_df = pd.DataFrame({\n",
    "    'Count':label_groupby, \n",
    "    'Ratio':label_groupby/sum(label_groupby),\n",
    "    'Ratio(%)':(label_groupby/sum(label_groupby))*100\n",
    "})\n",
    "labels_df"
   ]
  },
  {
   "cell_type": "code",
   "execution_count": 31,
   "metadata": {},
   "outputs": [
    {
     "name": "stderr",
     "output_type": "stream",
     "text": [
      "c:\\users\\marko\\appdata\\local\\programs\\python\\python38\\lib\\site-packages\\seaborn\\_decorators.py:36: FutureWarning: Pass the following variable as a keyword arg: x. From version 0.12, the only valid positional argument will be `data`, and passing other arguments without an explicit keyword will result in an error or misinterpretation.\n",
      "  warnings.warn(\n"
     ]
    },
    {
     "data": {
      "text/plain": [
       "(array([ 0,  1,  2,  3,  4,  5,  6,  7,  8,  9, 10, 11, 12, 13, 14]),\n",
       " [Text(0, 0, 'BENIGN'),\n",
       "  Text(1, 0, 'DDoS'),\n",
       "  Text(2, 0, 'PortScan'),\n",
       "  Text(3, 0, 'Bot'),\n",
       "  Text(4, 0, 'Infiltration'),\n",
       "  Text(5, 0, 'Web_Attack_Brute_Force'),\n",
       "  Text(6, 0, 'Web_Attack_XSS'),\n",
       "  Text(7, 0, 'Web_Attack_Sql_Injection'),\n",
       "  Text(8, 0, 'FTPPatator'),\n",
       "  Text(9, 0, 'SSHPatator'),\n",
       "  Text(10, 0, 'DoS_slowloris'),\n",
       "  Text(11, 0, 'DoS_Slowhttptest'),\n",
       "  Text(12, 0, 'DoS_Hulk'),\n",
       "  Text(13, 0, 'DoS_GoldenEye'),\n",
       "  Text(14, 0, 'Heartbleed')])"
      ]
     },
     "execution_count": 31,
     "metadata": {},
     "output_type": "execute_result"
    },
    {
     "data": {
      "image/png": "[encoded data removed]",
      "text/plain": [
       "<Figure size 1080x432 with 1 Axes>"
      ]
     },
     "metadata": {
      "needs_background": "light"
     },
     "output_type": "display_data"
    }
   ],
   "source": [
    "plt.figure(figsize=(15,6))\n",
    "chart = sns.countplot(df.label, palette=\"Set1\")\n",
    "plt.xticks(rotation=45, horizontalalignment=\"right\")"
   ]
  },
  {
   "cell_type": "code",
   "execution_count": 32,
   "metadata": {},
   "outputs": [
    {
     "data": {
      "text/plain": [
       "BENIGN      2271320\n",
       "DoS_Hulk     230124\n",
       "PortScan     158804\n",
       "DDoS         128025\n",
       "Various       39603\n",
       "Name: label, dtype: int64"
      ]
     },
     "execution_count": 32,
     "metadata": {},
     "output_type": "execute_result"
    }
   ],
   "source": [
    "data = df.label.value_counts()\n",
    "\n",
    "various = sum(data[4:])\n",
    "\n",
    "data = data[:4]\n",
    "\n",
    "data['Various'] = various\n",
    "\n",
    "data"
   ]
  },
  {
   "cell_type": "code",
   "execution_count": 33,
   "metadata": {},
   "outputs": [
    {
     "data": {
      "text/plain": [
       "Text(0.5, 1.0, 'Udio klasa u skupu podataka')"
      ]
     },
     "execution_count": 33,
     "metadata": {},
     "output_type": "execute_result"
    },
    {
     "data": {
      "image/png": "[encoded data removed]",
      "text/plain": [
       "<Figure size 720x432 with 1 Axes>"
      ]
     },
     "metadata": {},
     "output_type": "display_data"
    }
   ],
   "source": [
    "pie, ax = plt.subplots(figsize=[10,6])\n",
    "plt.pie(x=data, autopct=\"%.1f%%\", explode=[0.1]*len(data), labels=data.index, pctdistance=0.5)\n",
    "plt.title(\"Udio klasa u skupu podataka\", fontsize=14)"
   ]
  },
  {
   "cell_type": "code",
   "execution_count": 34,
   "metadata": {},
   "outputs": [
    {
     "name": "stderr",
     "output_type": "stream",
     "text": [
      "c:\\users\\marko\\appdata\\local\\programs\\python\\python38\\lib\\site-packages\\seaborn\\_decorators.py:36: FutureWarning: Pass the following variable as a keyword arg: x. From version 0.12, the only valid positional argument will be `data`, and passing other arguments without an explicit keyword will result in an error or misinterpretation.\n",
      "  warnings.warn(\n"
     ]
    },
    {
     "data": {
      "text/plain": [
       "(array([ 0,  1,  2,  3,  4,  5,  6,  7,  8,  9, 10, 11, 12, 13]),\n",
       " [Text(0, 0, 'DDoS'),\n",
       "  Text(1, 0, 'PortScan'),\n",
       "  Text(2, 0, 'Bot'),\n",
       "  Text(3, 0, 'Infiltration'),\n",
       "  Text(4, 0, 'Web_Attack_Brute_Force'),\n",
       "  Text(5, 0, 'Web_Attack_XSS'),\n",
       "  Text(6, 0, 'Web_Attack_Sql_Injection'),\n",
       "  Text(7, 0, 'FTPPatator'),\n",
       "  Text(8, 0, 'SSHPatator'),\n",
       "  Text(9, 0, 'DoS_slowloris'),\n",
       "  Text(10, 0, 'DoS_Slowhttptest'),\n",
       "  Text(11, 0, 'DoS_Hulk'),\n",
       "  Text(12, 0, 'DoS_GoldenEye'),\n",
       "  Text(13, 0, 'Heartbleed')])"
      ]
     },
     "execution_count": 34,
     "metadata": {},
     "output_type": "execute_result"
    },
    {
     "data": {
      "image/png": "[encoded data removed]",
      "text/plain": [
       "<Figure size 1080x432 with 1 Axes>"
      ]
     },
     "metadata": {
      "needs_background": "light"
     },
     "output_type": "display_data"
    }
   ],
   "source": [
    "plt.figure(figsize=(15,6))\n",
    "chart = sns.countplot(df.label.where(df.label != \"BENIGN\"), palette=\"Set1\")\n",
    "plt.xticks(rotation=45, horizontalalignment=\"right\")"
   ]
  },
  {
   "cell_type": "code",
   "execution_count": 35,
   "metadata": {},
   "outputs": [
    {
     "data": {
      "text/plain": [
       "DoS_Hulk    230124\n",
       "PortScan    158804\n",
       "DDoS        128025\n",
       "Various      39603\n",
       "Name: label, dtype: int64"
      ]
     },
     "execution_count": 35,
     "metadata": {},
     "output_type": "execute_result"
    }
   ],
   "source": [
    "data_2 = df.where(df.label != \"BENIGN\").label.value_counts()\n",
    "\n",
    "various = sum(data_2[3:])\n",
    "\n",
    "data_2 = data_2[:3]\n",
    "\n",
    "data_2['Various'] = various\n",
    "\n",
    "data_2"
   ]
  },
  {
   "cell_type": "code",
   "execution_count": 36,
   "metadata": {
    "scrolled": false
   },
   "outputs": [
    {
     "data": {
      "text/plain": [
       "Text(0.5, 1.0, 'Udio klasa bez BENIGN klase')"
      ]
     },
     "execution_count": 36,
     "metadata": {},
     "output_type": "execute_result"
    },
    {
     "data": {
      "image/png": "[encoded data removed]",
      "text/plain": [
       "<Figure size 720x432 with 1 Axes>"
      ]
     },
     "metadata": {},
     "output_type": "display_data"
    }
   ],
   "source": [
    "pie, ax = plt.subplots(figsize=[10,6]) \n",
    "plt.pie(x=data_2, autopct=\"%.1f%%\", explode=[0.05]*len(data_2), labels=data_2.index, pctdistance=0.5)\n",
    "plt.title(\"Udio klasa bez BENIGN klase\", fontsize=14)"
   ]
  }
 ],
 "metadata": {
  "kernelspec": {
   "display_name": "Python 3",
   "language": "python",
   "name": "python3"
  },
  "language_info": {
   "codemirror_mode": {
    "name": "ipython",
    "version": 3
   },
   "file_extension": ".py",
   "mimetype": "text/x-python",
   "name": "python",
   "nbconvert_exporter": "python",
   "pygments_lexer": "ipython3",
   "version": "3.8.3"
  },
  "toc": {
   "base_numbering": 1,
   "nav_menu": {},
   "number_sections": true,
   "sideBar": true,
   "skip_h1_title": false,
   "title_cell": "Table of Contents",
   "title_sidebar": "Contents",
   "toc_cell": false,
   "toc_position": {},
   "toc_section_display": true,
   "toc_window_display": false
  },
  "varInspector": {
   "cols": {
    "lenName": 16,
    "lenType": 16,
    "lenVar": 40
   },
   "kernels_config": {
    "python": {
     "delete_cmd_postfix": "",
     "delete_cmd_prefix": "del ",
     "library": "var_list.py",
     "varRefreshCmd": "print(var_dic_list())"
    },
    "r": {
     "delete_cmd_postfix": ") ",
     "delete_cmd_prefix": "rm(",
     "library": "var_list.r",
     "varRefreshCmd": "cat(var_dic_list()) "
    }
   },
   "types_to_exclude": [
    "module",
    "function",
    "builtin_function_or_method",
    "instance",
    "_Feature"
   ],
   "window_display": false
  }
 },
 "nbformat": 4,
 "nbformat_minor": 4
}
