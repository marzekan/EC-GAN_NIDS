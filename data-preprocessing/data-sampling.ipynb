{
 "cells": [
  {
   "cell_type": "markdown",
   "metadata": {},
   "source": [
    "This file contains code for sampling cleaned CIC-IDS-2017 dataset to be used for experiments."
   ]
  },
  {
   "cell_type": "code",
   "execution_count": 1,
   "metadata": {},
   "outputs": [],
   "source": [
    "import pandas as pd\n",
    "import numpy as np\n",
    "from sklearn.preprocessing import StandardScaler, Normalizer, LabelEncoder\n",
    "from sklearn.model_selection import train_test_split\n",
    "from sklearn.decomposition import PCA\n",
    "from sklearn.utils import shuffle, resample\n",
    "from sklearn.utils.random import sample_without_replacement\n",
    "from predictions import labels\n",
    "\n",
    "import warnings\n",
    "warnings.filterwarnings(\"ignore\")"
   ]
  },
  {
   "cell_type": "code",
   "execution_count": 2,
   "metadata": {},
   "outputs": [],
   "source": [
    "clean = pd.read_csv(\"data/clean1.csv\")"
   ]
  },
  {
   "cell_type": "markdown",
   "metadata": {},
   "source": [
    "`preproc_data` function implements data preprocessing steps from `preprocessing.ipynb` file - but as a single function. "
   ]
  },
  {
   "cell_type": "code",
   "execution_count": 3,
   "metadata": {},
   "outputs": [],
   "source": [
    "def preproc_data(dataset, train_sample: float, pca_dim=31):\n",
    "    \n",
    "    # Label encode\n",
    "    le = LabelEncoder()\n",
    "    dataset['label'] = le.fit_transform(dataset['label'])\n",
    "    \n",
    "    # Train test split\n",
    "    x_train, x_test, y_train, y_test = train_test_split(dataset.iloc[:,:-1], \n",
    "                                                        dataset['label'], \n",
    "                                                        test_size=1-train_sample, \n",
    "                                                        random_state=0)\n",
    "    # Standard scaling\n",
    "    ss = StandardScaler().fit(x_train)\n",
    "\n",
    "    x_train = ss.transform(x_train)\n",
    "    x_test = ss.transform(x_test)\n",
    "    \n",
    "    # PCA\n",
    "    pca = PCA(n_components=31).fit(x_train)\n",
    "\n",
    "    x_train = pca.transform(x_train)\n",
    "    x_test = pca.transform(x_test)\n",
    "    \n",
    "    # Normalization\n",
    "    norm = Normalizer().fit(x_train)\n",
    "\n",
    "    x_train = norm.transform(x_train)\n",
    "    x_test = norm.transform(x_test)\n",
    "    \n",
    "    # Reshaping \n",
    "    y_train = y_train.values.reshape(-1,1)\n",
    "    y_test = y_test.values.reshape(-1,1)\n",
    "    \n",
    "    return x_train, x_test, y_train, y_test"
   ]
  },
  {
   "cell_type": "code",
   "execution_count": 6,
   "metadata": {
    "scrolled": true
   },
   "outputs": [
    {
     "data": {
      "text/plain": [
       "['Bot',\n",
       " 'Web_Attack_Brute_Force',\n",
       " 'Web_Attack_XSS',\n",
       " 'Infiltration',\n",
       " 'Web_Attack_Sql_Injection',\n",
       " 'Heartbleed']"
      ]
     },
     "execution_count": 6,
     "metadata": {},
     "output_type": "execute_result"
    }
   ],
   "source": [
    "low_member_thresh = 2000\n",
    "\n",
    "low_member_labels = list(clean['label'].value_counts()[clean['label'].value_counts() < low_member_thresh].index)\n",
    "low_member_labels"
   ]
  },
  {
   "cell_type": "markdown",
   "metadata": {},
   "source": [
    "### 10%"
   ]
  },
  {
   "cell_type": "markdown",
   "metadata": {},
   "source": [
    "This dataset sample contains only 10% of each class members except those which contain <2000 intances. They are taken in their entirety."
   ]
  },
  {
   "cell_type": "code",
   "execution_count": 5,
   "metadata": {
    "scrolled": true
   },
   "outputs": [],
   "source": [
    "low_member_data = clean[clean.label.str.contains(\"|\".join(low_member_labels))]"
   ]
  },
  {
   "cell_type": "code",
   "execution_count": 6,
   "metadata": {},
   "outputs": [],
   "source": [
    "data = clean[~clean.label.str.contains(\"|\".join(low_member_labels))].sample(frac=.1, random_state=1)"
   ]
  },
  {
   "cell_type": "code",
   "execution_count": 7,
   "metadata": {},
   "outputs": [],
   "source": [
    "data = data.append(low_member_data, ignore_index=True)"
   ]
  },
  {
   "cell_type": "code",
   "execution_count": 8,
   "metadata": {},
   "outputs": [],
   "source": [
    "x_train, x_test, y_train, y_test = preproc_data(data, train_sample=0.75, pca_dim=31)"
   ]
  },
  {
   "cell_type": "code",
   "execution_count": 9,
   "metadata": {},
   "outputs": [],
   "source": [
    "np.save(\"data/preserve10/x_train.npy\", x_train)\n",
    "np.save(\"data/preserve10/y_train.npy\", y_train)\n",
    "np.save(\"data/preserve10/x_test.npy\", x_test)\n",
    "np.save(\"data/preserve10/y_test.npy\", y_test)"
   ]
  },
  {
   "cell_type": "markdown",
   "metadata": {},
   "source": [
    "### 25%"
   ]
  },
  {
   "cell_type": "code",
   "execution_count": 12,
   "metadata": {
    "scrolled": false
   },
   "outputs": [],
   "source": [
    "low_member_data = clean[clean.label.str.contains(\"|\".join(low_member_labels))]"
   ]
  },
  {
   "cell_type": "code",
   "execution_count": 13,
   "metadata": {},
   "outputs": [],
   "source": [
    "data = clean[~clean.label.str.contains(\"|\".join(low_member_labels))].sample(frac=.25, random_state=1)"
   ]
  },
  {
   "cell_type": "code",
   "execution_count": 14,
   "metadata": {},
   "outputs": [],
   "source": [
    "data = data.append(low_member_data, ignore_index=True)"
   ]
  },
  {
   "cell_type": "code",
   "execution_count": 15,
   "metadata": {},
   "outputs": [],
   "source": [
    "x_train, x_test, y_train, y_test = preproc_data(data, train_sample=0.75, pca_dim=31)"
   ]
  },
  {
   "cell_type": "code",
   "execution_count": 16,
   "metadata": {},
   "outputs": [],
   "source": [
    "np.save(\"data/preserve25/x_train.npy\", x_train)\n",
    "np.save(\"data/preserve25/y_train.npy\", y_train)\n",
    "np.save(\"data/preserve25/x_test.npy\", x_test)\n",
    "np.save(\"data/preserve25/y_test.npy\", y_test)"
   ]
  },
  {
   "cell_type": "markdown",
   "metadata": {},
   "source": [
    "### 50%"
   ]
  },
  {
   "cell_type": "code",
   "execution_count": 7,
   "metadata": {
    "scrolled": false
   },
   "outputs": [],
   "source": [
    "low_member_data = clean[clean.label.str.contains(\"|\".join(low_member_labels))]"
   ]
  },
  {
   "cell_type": "code",
   "execution_count": 8,
   "metadata": {},
   "outputs": [],
   "source": [
    "data = clean[~clean.label.str.contains(\"|\".join(low_member_labels))].sample(frac=.5, random_state=1)"
   ]
  },
  {
   "cell_type": "code",
   "execution_count": 9,
   "metadata": {},
   "outputs": [],
   "source": [
    "data = data.append(low_member_data, ignore_index=True)"
   ]
  },
  {
   "cell_type": "code",
   "execution_count": 10,
   "metadata": {},
   "outputs": [],
   "source": [
    "x_train, x_test, y_train, y_test = preproc_data(data, train_sample=0.75, pca_dim=31)"
   ]
  },
  {
   "cell_type": "code",
   "execution_count": 11,
   "metadata": {},
   "outputs": [],
   "source": [
    "np.save(\"data/preserve50/x_train.npy\", x_train)\n",
    "np.save(\"data/preserve50/y_train.npy\", y_train)\n",
    "np.save(\"data/preserve50/x_test.npy\", x_test)\n",
    "np.save(\"data/preserve50/y_test.npy\", y_test)"
   ]
  },
  {
   "cell_type": "markdown",
   "metadata": {},
   "source": [
    "### 100%"
   ]
  },
  {
   "cell_type": "code",
   "execution_count": 5,
   "metadata": {},
   "outputs": [],
   "source": [
    "x_train, x_test, y_train, y_test = preproc_data(clean, train_sample=0.75, pca_dim=31)"
   ]
  },
  {
   "cell_type": "code",
   "execution_count": 6,
   "metadata": {},
   "outputs": [],
   "source": [
    "np.save(\"data/preserve100/x_train.npy\", x_train)\n",
    "np.save(\"data/preserve100/y_train.npy\", y_train)\n",
    "np.save(\"data/preserve100/x_test.npy\", x_test)\n",
    "np.save(\"data/preserve100/y_test.npy\", y_test)"
   ]
  }
 ],
 "metadata": {
  "kernelspec": {
   "display_name": "Python 3",
   "language": "python",
   "name": "python3"
  },
  "language_info": {
   "codemirror_mode": {
    "name": "ipython",
    "version": 3
   },
   "file_extension": ".py",
   "mimetype": "text/x-python",
   "name": "python",
   "nbconvert_exporter": "python",
   "pygments_lexer": "ipython3",
   "version": "3.8.3"
  },
  "toc": {
   "base_numbering": 1,
   "nav_menu": {},
   "number_sections": true,
   "sideBar": true,
   "skip_h1_title": false,
   "title_cell": "Table of Contents",
   "title_sidebar": "Contents",
   "toc_cell": false,
   "toc_position": {},
   "toc_section_display": true,
   "toc_window_display": false
  },
  "varInspector": {
   "cols": {
    "lenName": 16,
    "lenType": 16,
    "lenVar": 40
   },
   "kernels_config": {
    "python": {
     "delete_cmd_postfix": "",
     "delete_cmd_prefix": "del ",
     "library": "var_list.py",
     "varRefreshCmd": "print(var_dic_list())"
    },
    "r": {
     "delete_cmd_postfix": ") ",
     "delete_cmd_prefix": "rm(",
     "library": "var_list.r",
     "varRefreshCmd": "cat(var_dic_list()) "
    }
   },
   "types_to_exclude": [
    "module",
    "function",
    "builtin_function_or_method",
    "instance",
    "_Feature"
   ],
   "window_display": false
  }
 },
 "nbformat": 4,
 "nbformat_minor": 4
}
